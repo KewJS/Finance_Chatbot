{
 "cells": [
  {
   "cell_type": "code",
   "execution_count": 24,
   "metadata": {},
   "outputs": [
    {
     "name": "stderr",
     "output_type": "stream",
     "text": [
      "c:\\Users\\kewjs\\Documents\\02-Self_Learning\\01-Data_Science\\07-Chatbot\\chatbot_venv\\lib\\site-packages\\spacy\\language.py:1895: UserWarning: [W123] Argument disable with value [] is used instead of ['senter'] as specified in the config. Be aware that this might affect other components in your pipeline.\n",
      "  warnings.warn(\n"
     ]
    }
   ],
   "source": [
    "import os\n",
    "import json\n",
    "import logging\n",
    "import pandas as pd\n",
    "import en_core_web_sm\n",
    "nlp = en_core_web_sm.load()\n",
    "from collections import Counter\n",
    "\n",
    "import spacy\n",
    "from spacy import displacy\n",
    "\n",
    "input_dir = \"data/raw\"\n",
    "logger = logging.getLogger(__name__)"
   ]
  },
  {
   "cell_type": "code",
   "execution_count": 25,
   "metadata": {},
   "outputs": [],
   "source": [
    "ner_desc_df = pd.read_csv(\"data/preprocess/FinancialPhraseBank-v1.0/ner_descriptions.csv\")"
   ]
  },
  {
   "cell_type": "code",
   "execution_count": 26,
   "metadata": {},
   "outputs": [
    {
     "data": {
      "text/html": [
       "<div>\n",
       "<style scoped>\n",
       "    .dataframe tbody tr th:only-of-type {\n",
       "        vertical-align: middle;\n",
       "    }\n",
       "\n",
       "    .dataframe tbody tr th {\n",
       "        vertical-align: top;\n",
       "    }\n",
       "\n",
       "    .dataframe thead th {\n",
       "        text-align: right;\n",
       "    }\n",
       "</style>\n",
       "<table border=\"1\" class=\"dataframe\">\n",
       "  <thead>\n",
       "    <tr style=\"text-align: right;\">\n",
       "      <th></th>\n",
       "      <th>Entities</th>\n",
       "      <th>Descriptions</th>\n",
       "    </tr>\n",
       "  </thead>\n",
       "  <tbody>\n",
       "    <tr>\n",
       "      <th>0</th>\n",
       "      <td>AUTO</td>\n",
       "      <td>car, auto-loan, automotive, vehicle, hirepurch...</td>\n",
       "    </tr>\n",
       "    <tr>\n",
       "      <th>1</th>\n",
       "      <td>CC SERVICE</td>\n",
       "      <td>Balance Transfer, Installments, Ezypay, EPP, P...</td>\n",
       "    </tr>\n",
       "    <tr>\n",
       "      <th>2</th>\n",
       "      <td>FD</td>\n",
       "      <td>fixed deposit, fd, FD</td>\n",
       "    </tr>\n",
       "    <tr>\n",
       "      <th>3</th>\n",
       "      <td>INVESTMENT</td>\n",
       "      <td>investment, gold, stocks, bonds, silver, commo...</td>\n",
       "    </tr>\n",
       "    <tr>\n",
       "      <th>4</th>\n",
       "      <td>MORTGAGE</td>\n",
       "      <td>house finance, property, mortgage, home loan, ...</td>\n",
       "    </tr>\n",
       "    <tr>\n",
       "      <th>5</th>\n",
       "      <td>NEW CC</td>\n",
       "      <td>new cc, petrol, cashback, movie tickets, air m...</td>\n",
       "    </tr>\n",
       "    <tr>\n",
       "      <th>6</th>\n",
       "      <td>SEGMENT</td>\n",
       "      <td>RAKElite, Premier Account, Elite Account, Rela...</td>\n",
       "    </tr>\n",
       "    <tr>\n",
       "      <th>7</th>\n",
       "      <td>SERVICE</td>\n",
       "      <td>RAK Token, Forgot Password, Forgot ID, Replace...</td>\n",
       "    </tr>\n",
       "  </tbody>\n",
       "</table>\n",
       "</div>"
      ],
      "text/plain": [
       "     Entities                                       Descriptions\n",
       "0        AUTO  car, auto-loan, automotive, vehicle, hirepurch...\n",
       "1  CC SERVICE  Balance Transfer, Installments, Ezypay, EPP, P...\n",
       "2          FD                              fixed deposit, fd, FD\n",
       "3  INVESTMENT  investment, gold, stocks, bonds, silver, commo...\n",
       "4    MORTGAGE  house finance, property, mortgage, home loan, ...\n",
       "5      NEW CC  new cc, petrol, cashback, movie tickets, air m...\n",
       "6     SEGMENT  RAKElite, Premier Account, Elite Account, Rela...\n",
       "7     SERVICE  RAK Token, Forgot Password, Forgot ID, Replace..."
      ]
     },
     "execution_count": 26,
     "metadata": {},
     "output_type": "execute_result"
    }
   ],
   "source": [
    "ner_desc_df"
   ]
  },
  {
   "cell_type": "code",
   "execution_count": 27,
   "metadata": {},
   "outputs": [
    {
     "data": {
      "text/plain": [
       "'NEW CC'"
      ]
     },
     "execution_count": 27,
     "metadata": {},
     "output_type": "execute_result"
    }
   ],
   "source": [
    "ner_desc_df[\"Entities\"][5]"
   ]
  },
  {
   "cell_type": "code",
   "execution_count": 2,
   "metadata": {},
   "outputs": [
    {
     "name": "stderr",
     "output_type": "stream",
     "text": [
      "c:\\Users\\kewjs\\Documents\\02-Self_Learning\\01-Data_Science\\07-Chatbot\\chatbot_venv\\lib\\site-packages\\spacy\\util.py:877: UserWarning: [W095] Model 'en_pipeline' (0.0.0) was trained with spaCy v3.5 and may not be 100% compatible with the current version (3.4.2). If you see errors or degraded performance, download a newer compatible model or retrain your custom model with the current spaCy version. For more details and available updates, run: python -m spacy validate\n",
      "  warnings.warn(warn_msg)\n"
     ]
    }
   ],
   "source": [
    "file = os.path.join(input_dir, \"{}.json\".format(\"chat\"))\n",
    "with open(file) as f:\n",
    "    data = json.loads(f.read())\n",
    "\n",
    "logger.info(\"  putting dialogues into mutliple lists format...\")\n",
    "parsed_dials = []\n",
    "for line in data:\n",
    "    dialogue = line[\"dialogue\"]\n",
    "    \n",
    "    all_text = []\n",
    "    for i, text in enumerate(dialogue):\n",
    "        text = text[\"text\"]\n",
    "        all_text.append(text)\n",
    "        \n",
    "    parsed_dials.append({\"persona1\": [], \"persona2\": [], \"turns\": all_text})\n",
    "    \n",
    "dialogues_lists = [d[\"turns\"] for d in parsed_dials]\n",
    "flattened_data = [item for sublist in dialogues_lists for item in sublist]\n",
    "df = pd.DataFrame(flattened_data, columns=[\"sentence\"])\n",
    "    \n",
    "# # load best maodel\n",
    "nlp_rak = spacy.load(\"data/models/ner-model-best\")"
   ]
  },
  {
   "cell_type": "code",
   "execution_count": 3,
   "metadata": {},
   "outputs": [],
   "source": [
    "ner_entities_dict = {\n",
    "    \"AUTO\": [\"car, auto-loan, automotive, vehicle, hirepurchase, car insurance, car financing\"],\n",
    "    \"CC SERVICE\": [\"Balance Transfer, Installments, Ezypay, EPP, Payment Plans\"],\n",
    "    \"FD\": [\"fixed deposit, fd, FD\"],\n",
    "    \"INVESTMENT\": [\"investment, gold, stocks, bonds, silver, commodities, trading account, Unit Trust, Mutual Fund\"],\n",
    "    \"MORTGAGE\": [\"house finance, property, mortgage, home loan, home financing\"],\n",
    "    \"NEW CC\": [\"new cc, petrol, cashback, movie tickets, air miles, groceries cashback, points\"],\n",
    "    \"SEGMENT\": [\"RAKElite, Premier Account, Elite Account, Relationship Manager\"],\n",
    "    \"SERVICE\": [\"RAK Token, Forgot Password, Forgot ID, Replace Credit Card\"],\n",
    "}\n",
    "\n",
    "ner_desc_df = (pd.DataFrame.from_dict(ner_entities_dict, orient=\"index\")\n",
    "               .reset_index()\n",
    "               .rename(columns={\"index\": \"Entities\", 0: \"Descriptions\"}))\n",
    "ner_desc_df.to_csv(r\"C:\\Users\\kewjs\\Documents\\02-Self_Learning\\01-Data_Science\\07-Chatbot\\data\\preprocess\\FinancialPhraseBank-v1.0\\ner_descriptions.csv\", index=False)"
   ]
  },
  {
   "cell_type": "code",
   "execution_count": 4,
   "metadata": {},
   "outputs": [],
   "source": [
    "ner_table = pd.read_csv(r\"data\\preprocess\\FinancialPhraseBank-v1.0\\ner_table.csv\")\n",
    "    \n",
    "auto_sum = int(ner_table[ner_table[\"Entities\"]==\"AUTO\"][\"Sum\"])\n",
    "cc_service_sum = int(ner_table[ner_table[\"Entities\"]==\"CC SERVICE\"][\"Sum\"])\n",
    "fd_sum = int(ner_table[ner_table[\"Entities\"]==\"FD\"][\"Sum\"])\n",
    "investment_sum = int(ner_table[ner_table[\"Entities\"]==\"INVESTMENT\"][\"Sum\"])\n",
    "mortgage_sum = int(ner_table[ner_table[\"Entities\"]==\"MORTGAGE\"][\"Sum\"])\n",
    "new_cc_sum = int(ner_table[ner_table[\"Entities\"]==\"NEW CC\"][\"Sum\"])\n",
    "segment_sum = int(ner_table[ner_table[\"Entities\"]==\"SEGMENT\"][\"Sum\"])\n",
    "service_sum = int(ner_table[ner_table[\"Entities\"]==\"SERVICE\"][\"Sum\"])\n",
    "\n",
    "total_queries = auto_sum + cc_service_sum + fd_sum + investment_sum + mortgage_sum + new_cc_sum + segment_sum + service_sum\n"
   ]
  },
  {
   "cell_type": "code",
   "execution_count": 5,
   "metadata": {},
   "outputs": [
    {
     "data": {
      "text/plain": [
       "1133"
      ]
     },
     "execution_count": 5,
     "metadata": {},
     "output_type": "execute_result"
    }
   ],
   "source": [
    "total_queries"
   ]
  },
  {
   "cell_type": "code",
   "execution_count": null,
   "metadata": {},
   "outputs": [],
   "source": []
  },
  {
   "cell_type": "code",
   "execution_count": 5,
   "metadata": {},
   "outputs": [
    {
     "data": {
      "text/plain": [
       "('AUTO',\n",
       " 'CC SERVICE',\n",
       " 'FD',\n",
       " 'INVESTMENT',\n",
       " 'MORTGAGE',\n",
       " 'NEW CC',\n",
       " 'SEGMENT',\n",
       " 'SERVICE')"
      ]
     },
     "execution_count": 5,
     "metadata": {},
     "output_type": "execute_result"
    }
   ],
   "source": [
    "nlp_rak.get_pipe(\"ner\").labels"
   ]
  },
  {
   "cell_type": "code",
   "execution_count": 20,
   "metadata": {},
   "outputs": [
    {
     "data": {
      "text/plain": [
       "Counter({'Elite': 2,\n",
       "         'Auto Loan': 1,\n",
       "         'Car Loan': 2,\n",
       "         'Rakbank': 2,\n",
       "         'Balance Transfer': 1,\n",
       "         'ADCB': 1,\n",
       "         \"Balance Transfer'\": 1})"
      ]
     },
     "execution_count": 20,
     "metadata": {},
     "output_type": "execute_result"
    }
   ],
   "source": [
    "text = {\n",
    "    \"sentence\": [\"How do I become an Elite customer? What Investment products do you offer? Suggest to me a cc with air miles benefit. How do I apply for Auto Loan with rakbank?\", \"How do I become an Elite customer? What Investment products do you offer? How do I apply for Car Loan with rakbank?\", \"I want a credit card with supermarket cashback. How do I get car loan from Rakbank. Also, I forgot my Raktoken how do I reset it?\", \"Can I open a trading account with Rakbank? What is the lowest rate you can offer for mortgage loan?\", \"I want a cc with petrol cashback\", \"I want to convert my CC purchase into installments. How can I do a Balance Transfer from my ADCB?\", \"Can I invest with rakbank?\", \"How do I apply for Car Loan? Can I do it online?\", \"How can I do a Balance Transfer\", \"I would like to apply for mortgage loan. What is your latest interest rate?\"]\n",
    "}\n",
    "\n",
    "df = pd.DataFrame.from_dict(text)\n",
    "tokens = nlp(\"\".join(str(df.sentence.tolist())))\n",
    "items = [x.text for x in tokens.ents]\n",
    "Counter(items)"
   ]
  },
  {
   "cell_type": "code",
   "execution_count": 27,
   "metadata": {},
   "outputs": [
    {
     "data": {
      "text/plain": [
       "['Elite',\n",
       " 'Auto Loan',\n",
       " 'Elite',\n",
       " 'Car Loan',\n",
       " 'Rakbank',\n",
       " 'Rakbank',\n",
       " 'Balance Transfer',\n",
       " 'ADCB',\n",
       " 'Car Loan',\n",
       " \"Balance Transfer'\"]"
      ]
     },
     "execution_count": 27,
     "metadata": {},
     "output_type": "execute_result"
    }
   ],
   "source": [
    "items"
   ]
  },
  {
   "cell_type": "code",
   "execution_count": 6,
   "metadata": {},
   "outputs": [
    {
     "name": "stdout",
     "output_type": "stream",
     "text": [
      "Elite SEGMENT\n",
      "Investment INVESTMENT\n",
      "Auto AUTO\n"
     ]
    }
   ],
   "source": [
    "text = \"How do I become an Elite customer? What Investment products do you offer? Suggest to me a cc with air miles benefit. How do I apply for Auto Loan with rakbank?\"\n",
    "doc = nlp_rak(text)\n",
    "\n",
    "for entity in doc.ents:\n",
    "    print(entity.text, entity.label_)"
   ]
  },
  {
   "cell_type": "code",
   "execution_count": 7,
   "metadata": {
    "scrolled": true
   },
   "outputs": [],
   "source": [
    "#Set colors\n",
    "colors = {\"SEGMENT\": \"#85C1E9\", \"INVESTMENT\": \"#ff6961\", \"AUTO\": \"lightgreen\", \"CC SERVICE\": \"#ffe4b5\", \"FD\": \"lightpurple\", \"MORTGAGE\": \"lightpink\", \"NEW CC\": \"#b0c4de\", \"SERVICE\": \"#cd5c5c\"}\n",
    "options = {\"ents\": [\"SEGMENT\", \"INVESTMENT\", \"AUTO\", \"CC SERVICE\", \"FD\", \"MORTGAGE\", \"NEW CC\", \"SERVICE\"], \"colors\": colors}\n"
   ]
  },
  {
   "cell_type": "code",
   "execution_count": null,
   "metadata": {},
   "outputs": [],
   "source": []
  },
  {
   "cell_type": "code",
   "execution_count": 19,
   "metadata": {},
   "outputs": [
    {
     "data": {
      "text/html": [
       "<span class=\"tex2jax_ignore\"><div class=\"entities\" style=\"line-height: 2.5; direction: ltr\">How do I become an \n",
       "<mark class=\"entity\" style=\"background: #85C1E9; padding: 0.45em 0.6em; margin: 0 0.25em; line-height: 1; border-radius: 0.35em;\">\n",
       "    Elite\n",
       "    <span style=\"font-size: 0.8em; font-weight: bold; line-height: 1; border-radius: 0.35em; vertical-align: middle; margin-left: 0.5rem\">SEGMENT</span>\n",
       "</mark>\n",
       " customer? What \n",
       "<mark class=\"entity\" style=\"background: #ff6961; padding: 0.45em 0.6em; margin: 0 0.25em; line-height: 1; border-radius: 0.35em;\">\n",
       "    Investment\n",
       "    <span style=\"font-size: 0.8em; font-weight: bold; line-height: 1; border-radius: 0.35em; vertical-align: middle; margin-left: 0.5rem\">INVESTMENT</span>\n",
       "</mark>\n",
       " products do you offer? Suggest to me a cc with air miles benefit. How do I apply for \n",
       "<mark class=\"entity\" style=\"background: lightgreen; padding: 0.45em 0.6em; margin: 0 0.25em; line-height: 1; border-radius: 0.35em;\">\n",
       "    Auto\n",
       "    <span style=\"font-size: 0.8em; font-weight: bold; line-height: 1; border-radius: 0.35em; vertical-align: middle; margin-left: 0.5rem\">AUTO</span>\n",
       "</mark>\n",
       " Loan with rakbank?</div></span>"
      ],
      "text/plain": [
       "<IPython.core.display.HTML object>"
      ]
     },
     "metadata": {},
     "output_type": "display_data"
    },
    {
     "data": {
      "text/html": [
       "<span class=\"tex2jax_ignore\"><div class=\"entities\" style=\"line-height: 2.5; direction: ltr\">How do I become an \n",
       "<mark class=\"entity\" style=\"background: #85C1E9; padding: 0.45em 0.6em; margin: 0 0.25em; line-height: 1; border-radius: 0.35em;\">\n",
       "    Elite\n",
       "    <span style=\"font-size: 0.8em; font-weight: bold; line-height: 1; border-radius: 0.35em; vertical-align: middle; margin-left: 0.5rem\">SEGMENT</span>\n",
       "</mark>\n",
       " customer? What \n",
       "<mark class=\"entity\" style=\"background: #ff6961; padding: 0.45em 0.6em; margin: 0 0.25em; line-height: 1; border-radius: 0.35em;\">\n",
       "    Investment\n",
       "    <span style=\"font-size: 0.8em; font-weight: bold; line-height: 1; border-radius: 0.35em; vertical-align: middle; margin-left: 0.5rem\">INVESTMENT</span>\n",
       "</mark>\n",
       " products do you offer? Suggest to me a cc with air miles benefit. How do I apply for \n",
       "<mark class=\"entity\" style=\"background: lightgreen; padding: 0.45em 0.6em; margin: 0 0.25em; line-height: 1; border-radius: 0.35em;\">\n",
       "    Auto\n",
       "    <span style=\"font-size: 0.8em; font-weight: bold; line-height: 1; border-radius: 0.35em; vertical-align: middle; margin-left: 0.5rem\">AUTO</span>\n",
       "</mark>\n",
       " Loan with rakbank?</div></span>"
      ],
      "text/plain": [
       "<IPython.core.display.HTML object>"
      ]
     },
     "metadata": {},
     "output_type": "display_data"
    },
    {
     "data": {
      "text/html": [
       "<span class=\"tex2jax_ignore\"><div class=\"entities\" style=\"line-height: 2.5; direction: ltr\">Can I open a \n",
       "<mark class=\"entity\" style=\"background: #ff6961; padding: 0.45em 0.6em; margin: 0 0.25em; line-height: 1; border-radius: 0.35em;\">\n",
       "    trading\n",
       "    <span style=\"font-size: 0.8em; font-weight: bold; line-height: 1; border-radius: 0.35em; vertical-align: middle; margin-left: 0.5rem\">INVESTMENT</span>\n",
       "</mark>\n",
       " account with Rakbank? What is the lowest rate you can offer for \n",
       "<mark class=\"entity\" style=\"background: lightpink; padding: 0.45em 0.6em; margin: 0 0.25em; line-height: 1; border-radius: 0.35em;\">\n",
       "    mortgage\n",
       "    <span style=\"font-size: 0.8em; font-weight: bold; line-height: 1; border-radius: 0.35em; vertical-align: middle; margin-left: 0.5rem\">MORTGAGE</span>\n",
       "</mark>\n",
       " loan?</div></span>"
      ],
      "text/plain": [
       "<IPython.core.display.HTML object>"
      ]
     },
     "metadata": {},
     "output_type": "display_data"
    },
    {
     "data": {
      "text/html": [
       "<span class=\"tex2jax_ignore\"><div class=\"entities\" style=\"line-height: 2.5; direction: ltr\">I want a credit card with \n",
       "<mark class=\"entity\" style=\"background: #b0c4de; padding: 0.45em 0.6em; margin: 0 0.25em; line-height: 1; border-radius: 0.35em;\">\n",
       "    supermarket cashback\n",
       "    <span style=\"font-size: 0.8em; font-weight: bold; line-height: 1; border-radius: 0.35em; vertical-align: middle; margin-left: 0.5rem\">NEW CC</span>\n",
       "</mark>\n",
       ". How do I get \n",
       "<mark class=\"entity\" style=\"background: lightgreen; padding: 0.45em 0.6em; margin: 0 0.25em; line-height: 1; border-radius: 0.35em;\">\n",
       "    car\n",
       "    <span style=\"font-size: 0.8em; font-weight: bold; line-height: 1; border-radius: 0.35em; vertical-align: middle; margin-left: 0.5rem\">AUTO</span>\n",
       "</mark>\n",
       " loan from Rakbank. Also, I forgot my \n",
       "<mark class=\"entity\" style=\"background: #cd5c5c; padding: 0.45em 0.6em; margin: 0 0.25em; line-height: 1; border-radius: 0.35em;\">\n",
       "    Raktoken\n",
       "    <span style=\"font-size: 0.8em; font-weight: bold; line-height: 1; border-radius: 0.35em; vertical-align: middle; margin-left: 0.5rem\">SERVICE</span>\n",
       "</mark>\n",
       " how do I reset it?</div></span>"
      ],
      "text/plain": [
       "<IPython.core.display.HTML object>"
      ]
     },
     "metadata": {},
     "output_type": "display_data"
    },
    {
     "data": {
      "text/html": [
       "<span class=\"tex2jax_ignore\"><div class=\"entities\" style=\"line-height: 2.5; direction: ltr\">How do I become an \n",
       "<mark class=\"entity\" style=\"background: #85C1E9; padding: 0.45em 0.6em; margin: 0 0.25em; line-height: 1; border-radius: 0.35em;\">\n",
       "    Elite\n",
       "    <span style=\"font-size: 0.8em; font-weight: bold; line-height: 1; border-radius: 0.35em; vertical-align: middle; margin-left: 0.5rem\">SEGMENT</span>\n",
       "</mark>\n",
       " customer? What \n",
       "<mark class=\"entity\" style=\"background: #ff6961; padding: 0.45em 0.6em; margin: 0 0.25em; line-height: 1; border-radius: 0.35em;\">\n",
       "    Investment\n",
       "    <span style=\"font-size: 0.8em; font-weight: bold; line-height: 1; border-radius: 0.35em; vertical-align: middle; margin-left: 0.5rem\">INVESTMENT</span>\n",
       "</mark>\n",
       " products do you offer? How do I apply for \n",
       "<mark class=\"entity\" style=\"background: lightgreen; padding: 0.45em 0.6em; margin: 0 0.25em; line-height: 1; border-radius: 0.35em;\">\n",
       "    Car\n",
       "    <span style=\"font-size: 0.8em; font-weight: bold; line-height: 1; border-radius: 0.35em; vertical-align: middle; margin-left: 0.5rem\">AUTO</span>\n",
       "</mark>\n",
       " Loan with rakbank?</div></span>"
      ],
      "text/plain": [
       "<IPython.core.display.HTML object>"
      ]
     },
     "metadata": {},
     "output_type": "display_data"
    }
   ],
   "source": [
    "text1 = \"How do I become an Elite customer? What Investment products do you offer? Suggest to me a cc with air miles benefit. How do I apply for Auto Loan with rakbank?\"\n",
    "doc1 = nlp_rak(text1)\n",
    "html_doc1 = displacy.render(doc1, style=\"ent\", options=options)\n",
    "\n",
    "text1 = \"How do I become an Elite customer? What Investment products do you offer? Suggest to me a cc with air miles benefit. How do I apply for Auto Loan with rakbank?\"\n",
    "doc1 = nlp_rak(text1)\n",
    "html_doc1 = displacy.render(doc1, style=\"ent\", options=options)\n",
    "\n",
    "text2 = \"Can I open a trading account with Rakbank? What is the lowest rate you can offer for mortgage loan?\"\n",
    "doc2 = nlp_rak(text2)\n",
    "html_doc2 = displacy.render(doc2, style=\"ent\", options=options)\n",
    "\n",
    "text3 = \"I want a credit card with supermarket cashback. How do I get car loan from Rakbank. Also, I forgot my Raktoken how do I reset it?\"\n",
    "doc3 = nlp_rak(text3)\n",
    "html_doc3 = displacy.render(doc3, style=\"ent\", options=options)\n",
    "\n",
    "text4 = \"How do I become an Elite customer? What Investment products do you offer? How do I apply for Car Loan with rakbank?\"\n",
    "doc4 = nlp_rak(text4)\n",
    "html_doc4 = displacy.render(doc4, style=\"ent\", options=options)"
   ]
  },
  {
   "cell_type": "code",
   "execution_count": 23,
   "metadata": {},
   "outputs": [
    {
     "data": {
      "text/html": [
       "<div>\n",
       "<style scoped>\n",
       "    .dataframe tbody tr th:only-of-type {\n",
       "        vertical-align: middle;\n",
       "    }\n",
       "\n",
       "    .dataframe tbody tr th {\n",
       "        vertical-align: top;\n",
       "    }\n",
       "\n",
       "    .dataframe thead th {\n",
       "        text-align: right;\n",
       "    }\n",
       "</style>\n",
       "<table border=\"1\" class=\"dataframe\">\n",
       "  <thead>\n",
       "    <tr style=\"text-align: right;\">\n",
       "      <th></th>\n",
       "      <th>sentence</th>\n",
       "    </tr>\n",
       "  </thead>\n",
       "  <tbody>\n",
       "    <tr>\n",
       "      <th>0</th>\n",
       "      <td>None</td>\n",
       "    </tr>\n",
       "  </tbody>\n",
       "</table>\n",
       "</div>"
      ],
      "text/plain": [
       "  sentence\n",
       "0     None"
      ]
     },
     "metadata": {},
     "output_type": "display_data"
    }
   ],
   "source": [
    "from IPython.display import display\n",
    "\n",
    "ner_output_dict = {\n",
    "    \"sentence\": [html_doc1],\n",
    "} \n",
    "\n",
    "ner_output_df = pd.DataFrame(ner_output_dict)\n",
    "\n",
    "display(ner_output_df)"
   ]
  },
  {
   "cell_type": "code",
   "execution_count": 21,
   "metadata": {},
   "outputs": [
    {
     "data": {
      "text/plain": [
       "{'sentence': [None, None, None, None]}"
      ]
     },
     "execution_count": 21,
     "metadata": {},
     "output_type": "execute_result"
    }
   ],
   "source": [
    "ner_output_dict"
   ]
  },
  {
   "cell_type": "code",
   "execution_count": 8,
   "metadata": {
    "scrolled": true
   },
   "outputs": [
    {
     "data": {
      "text/html": [
       "<span class=\"tex2jax_ignore\"><div class=\"entities\" style=\"line-height: 2.5; direction: ltr\">How do I become an \n",
       "<mark class=\"entity\" style=\"background: #85C1E9; padding: 0.45em 0.6em; margin: 0 0.25em; line-height: 1; border-radius: 0.35em;\">\n",
       "    Elite\n",
       "    <span style=\"font-size: 0.8em; font-weight: bold; line-height: 1; border-radius: 0.35em; vertical-align: middle; margin-left: 0.5rem\">SEGMENT</span>\n",
       "</mark>\n",
       " customer? What \n",
       "<mark class=\"entity\" style=\"background: #ff6961; padding: 0.45em 0.6em; margin: 0 0.25em; line-height: 1; border-radius: 0.35em;\">\n",
       "    Investment\n",
       "    <span style=\"font-size: 0.8em; font-weight: bold; line-height: 1; border-radius: 0.35em; vertical-align: middle; margin-left: 0.5rem\">INVESTMENT</span>\n",
       "</mark>\n",
       " products do you offer? Suggest to me a cc with air miles benefit. How do I apply for \n",
       "<mark class=\"entity\" style=\"background: lightgreen; padding: 0.45em 0.6em; margin: 0 0.25em; line-height: 1; border-radius: 0.35em;\">\n",
       "    Auto\n",
       "    <span style=\"font-size: 0.8em; font-weight: bold; line-height: 1; border-radius: 0.35em; vertical-align: middle; margin-left: 0.5rem\">AUTO</span>\n",
       "</mark>\n",
       " Loan with rakbank?</div></span>"
      ],
      "text/plain": [
       "<IPython.core.display.HTML object>"
      ]
     },
     "metadata": {},
     "output_type": "display_data"
    }
   ],
   "source": [
    "#Visualize the output with displacy (need to use jupyter notebook)\n",
    "#from spacy import displacy\n",
    "displacy.render(doc, style='ent',options=options)"
   ]
  },
  {
   "cell_type": "code",
   "execution_count": 9,
   "metadata": {},
   "outputs": [
    {
     "data": {
      "text/html": [
       "<span class=\"tex2jax_ignore\"><div class=\"entities\" style=\"line-height: 2.5; direction: ltr\">How do I become an \n",
       "<mark class=\"entity\" style=\"background: #85C1E9; padding: 0.45em 0.6em; margin: 0 0.25em; line-height: 1; border-radius: 0.35em;\">\n",
       "    Elite\n",
       "    <span style=\"font-size: 0.8em; font-weight: bold; line-height: 1; border-radius: 0.35em; vertical-align: middle; margin-left: 0.5rem\">SEGMENT</span>\n",
       "</mark>\n",
       " customer? What \n",
       "<mark class=\"entity\" style=\"background: #ff6961; padding: 0.45em 0.6em; margin: 0 0.25em; line-height: 1; border-radius: 0.35em;\">\n",
       "    Investment\n",
       "    <span style=\"font-size: 0.8em; font-weight: bold; line-height: 1; border-radius: 0.35em; vertical-align: middle; margin-left: 0.5rem\">INVESTMENT</span>\n",
       "</mark>\n",
       " products do you offer? How do I apply for \n",
       "<mark class=\"entity\" style=\"background: lightgreen; padding: 0.45em 0.6em; margin: 0 0.25em; line-height: 1; border-radius: 0.35em;\">\n",
       "    Car\n",
       "    <span style=\"font-size: 0.8em; font-weight: bold; line-height: 1; border-radius: 0.35em; vertical-align: middle; margin-left: 0.5rem\">AUTO</span>\n",
       "</mark>\n",
       " Loan with rakbank?</div></span>"
      ],
      "text/plain": [
       "<IPython.core.display.HTML object>"
      ]
     },
     "metadata": {},
     "output_type": "display_data"
    }
   ],
   "source": [
    "text = \"How do I become an Elite customer? What Investment products do you offer? How do I apply for Car Loan with rakbank?\"\n",
    "doc = nlp_rak(text)\n",
    "displacy.render(doc, style='ent',options=options)"
   ]
  },
  {
   "cell_type": "code",
   "execution_count": 10,
   "metadata": {},
   "outputs": [
    {
     "data": {
      "text/html": [
       "<span class=\"tex2jax_ignore\"><div class=\"entities\" style=\"line-height: 2.5; direction: ltr\">I want a credit card with \n",
       "<mark class=\"entity\" style=\"background: #b0c4de; padding: 0.45em 0.6em; margin: 0 0.25em; line-height: 1; border-radius: 0.35em;\">\n",
       "    supermarket cashback\n",
       "    <span style=\"font-size: 0.8em; font-weight: bold; line-height: 1; border-radius: 0.35em; vertical-align: middle; margin-left: 0.5rem\">NEW CC</span>\n",
       "</mark>\n",
       ". How do I get \n",
       "<mark class=\"entity\" style=\"background: lightgreen; padding: 0.45em 0.6em; margin: 0 0.25em; line-height: 1; border-radius: 0.35em;\">\n",
       "    car\n",
       "    <span style=\"font-size: 0.8em; font-weight: bold; line-height: 1; border-radius: 0.35em; vertical-align: middle; margin-left: 0.5rem\">AUTO</span>\n",
       "</mark>\n",
       " loan from Rakbank. Also, I forgot my \n",
       "<mark class=\"entity\" style=\"background: #cd5c5c; padding: 0.45em 0.6em; margin: 0 0.25em; line-height: 1; border-radius: 0.35em;\">\n",
       "    Raktoken\n",
       "    <span style=\"font-size: 0.8em; font-weight: bold; line-height: 1; border-radius: 0.35em; vertical-align: middle; margin-left: 0.5rem\">SERVICE</span>\n",
       "</mark>\n",
       " how do I reset it?</div></span>"
      ],
      "text/plain": [
       "<IPython.core.display.HTML object>"
      ]
     },
     "metadata": {},
     "output_type": "display_data"
    }
   ],
   "source": [
    "text = \"I want a credit card with supermarket cashback. How do I get car loan from Rakbank. Also, I forgot my Raktoken how do I reset it?\"\n",
    "doc = nlp_rak(text)\n",
    "displacy.render(doc, style='ent',options=options)"
   ]
  },
  {
   "cell_type": "code",
   "execution_count": 11,
   "metadata": {},
   "outputs": [
    {
     "data": {
      "text/html": [
       "<span class=\"tex2jax_ignore\"><div class=\"entities\" style=\"line-height: 2.5; direction: ltr\">Can I open a \n",
       "<mark class=\"entity\" style=\"background: #ff6961; padding: 0.45em 0.6em; margin: 0 0.25em; line-height: 1; border-radius: 0.35em;\">\n",
       "    trading\n",
       "    <span style=\"font-size: 0.8em; font-weight: bold; line-height: 1; border-radius: 0.35em; vertical-align: middle; margin-left: 0.5rem\">INVESTMENT</span>\n",
       "</mark>\n",
       " account with Rakbank? What is the lowest rate you can offer for \n",
       "<mark class=\"entity\" style=\"background: lightpink; padding: 0.45em 0.6em; margin: 0 0.25em; line-height: 1; border-radius: 0.35em;\">\n",
       "    mortgage\n",
       "    <span style=\"font-size: 0.8em; font-weight: bold; line-height: 1; border-radius: 0.35em; vertical-align: middle; margin-left: 0.5rem\">MORTGAGE</span>\n",
       "</mark>\n",
       " loan?</div></span>"
      ],
      "text/plain": [
       "<IPython.core.display.HTML object>"
      ]
     },
     "metadata": {},
     "output_type": "display_data"
    }
   ],
   "source": [
    "text = \"Can I open a trading account with Rakbank? What is the lowest rate you can offer for mortgage loan?\"\n",
    "doc = nlp_rak(text)\n",
    "displacy.render(doc, style='ent',options=options)"
   ]
  },
  {
   "cell_type": "code",
   "execution_count": 12,
   "metadata": {},
   "outputs": [
    {
     "data": {
      "text/html": [
       "<span class=\"tex2jax_ignore\"><div class=\"entities\" style=\"line-height: 2.5; direction: ltr\">I want a cc with \n",
       "<mark class=\"entity\" style=\"background: #b0c4de; padding: 0.45em 0.6em; margin: 0 0.25em; line-height: 1; border-radius: 0.35em;\">\n",
       "    petrol\n",
       "    <span style=\"font-size: 0.8em; font-weight: bold; line-height: 1; border-radius: 0.35em; vertical-align: middle; margin-left: 0.5rem\">NEW CC</span>\n",
       "</mark>\n",
       " cashback</div></span>"
      ],
      "text/plain": [
       "<IPython.core.display.HTML object>"
      ]
     },
     "metadata": {},
     "output_type": "display_data"
    }
   ],
   "source": [
    "text = \"I want a cc with petrol cashback\"\n",
    "doc = nlp_rak(text)\n",
    "displacy.render(doc, style='ent',options=options)"
   ]
  },
  {
   "cell_type": "code",
   "execution_count": 13,
   "metadata": {},
   "outputs": [
    {
     "data": {
      "text/html": [
       "<span class=\"tex2jax_ignore\"><div class=\"entities\" style=\"line-height: 2.5; direction: ltr\">I want to convert my CC purchase into \n",
       "<mark class=\"entity\" style=\"background: #ffe4b5; padding: 0.45em 0.6em; margin: 0 0.25em; line-height: 1; border-radius: 0.35em;\">\n",
       "    installments\n",
       "    <span style=\"font-size: 0.8em; font-weight: bold; line-height: 1; border-radius: 0.35em; vertical-align: middle; margin-left: 0.5rem\">CC SERVICE</span>\n",
       "</mark>\n",
       ". How can I do a \n",
       "<mark class=\"entity\" style=\"background: #ffe4b5; padding: 0.45em 0.6em; margin: 0 0.25em; line-height: 1; border-radius: 0.35em;\">\n",
       "    Balance Transfer\n",
       "    <span style=\"font-size: 0.8em; font-weight: bold; line-height: 1; border-radius: 0.35em; vertical-align: middle; margin-left: 0.5rem\">CC SERVICE</span>\n",
       "</mark>\n",
       " from my ADCB?</div></span>"
      ],
      "text/plain": [
       "<IPython.core.display.HTML object>"
      ]
     },
     "metadata": {},
     "output_type": "display_data"
    }
   ],
   "source": [
    "text = \"I want to convert my CC purchase into installments. How can I do a Balance Transfer from my ADCB?\"\n",
    "doc = nlp_rak(text)\n",
    "displacy.render(doc, style='ent',options=options)"
   ]
  },
  {
   "cell_type": "code",
   "execution_count": 14,
   "metadata": {},
   "outputs": [
    {
     "data": {
      "text/html": [
       "<span class=\"tex2jax_ignore\"><div class=\"entities\" style=\"line-height: 2.5; direction: ltr\">Can I \n",
       "<mark class=\"entity\" style=\"background: #ff6961; padding: 0.45em 0.6em; margin: 0 0.25em; line-height: 1; border-radius: 0.35em;\">\n",
       "    invest\n",
       "    <span style=\"font-size: 0.8em; font-weight: bold; line-height: 1; border-radius: 0.35em; vertical-align: middle; margin-left: 0.5rem\">INVESTMENT</span>\n",
       "</mark>\n",
       " with rakbank?</div></span>"
      ],
      "text/plain": [
       "<IPython.core.display.HTML object>"
      ]
     },
     "metadata": {},
     "output_type": "display_data"
    }
   ],
   "source": [
    "text = \"Can I invest with rakbank?\"\n",
    "doc = nlp_rak(text)\n",
    "displacy.render(doc, style='ent',options=options)"
   ]
  },
  {
   "cell_type": "code",
   "execution_count": 15,
   "metadata": {},
   "outputs": [
    {
     "data": {
      "text/html": [
       "<span class=\"tex2jax_ignore\"><div class=\"entities\" style=\"line-height: 2.5; direction: ltr\">How do I apply for \n",
       "<mark class=\"entity\" style=\"background: lightgreen; padding: 0.45em 0.6em; margin: 0 0.25em; line-height: 1; border-radius: 0.35em;\">\n",
       "    Car\n",
       "    <span style=\"font-size: 0.8em; font-weight: bold; line-height: 1; border-radius: 0.35em; vertical-align: middle; margin-left: 0.5rem\">AUTO</span>\n",
       "</mark>\n",
       " Loan? Can I do it online?</div></span>"
      ],
      "text/plain": [
       "<IPython.core.display.HTML object>"
      ]
     },
     "metadata": {},
     "output_type": "display_data"
    }
   ],
   "source": [
    "text = \"How do I apply for Car Loan? Can I do it online?\"\n",
    "doc = nlp_rak(text)\n",
    "displacy.render(doc, style='ent',options=options)"
   ]
  },
  {
   "cell_type": "code",
   "execution_count": 16,
   "metadata": {},
   "outputs": [
    {
     "data": {
      "text/html": [
       "<span class=\"tex2jax_ignore\"><div class=\"entities\" style=\"line-height: 2.5; direction: ltr\">How can I do a \n",
       "<mark class=\"entity\" style=\"background: #ffe4b5; padding: 0.45em 0.6em; margin: 0 0.25em; line-height: 1; border-radius: 0.35em;\">\n",
       "    Balance Transfer\n",
       "    <span style=\"font-size: 0.8em; font-weight: bold; line-height: 1; border-radius: 0.35em; vertical-align: middle; margin-left: 0.5rem\">CC SERVICE</span>\n",
       "</mark>\n",
       "</div></span>"
      ],
      "text/plain": [
       "<IPython.core.display.HTML object>"
      ]
     },
     "metadata": {},
     "output_type": "display_data"
    }
   ],
   "source": [
    "text = \"How can I do a Balance Transfer\"\n",
    "doc = nlp_rak(text)\n",
    "displacy.render(doc, style='ent',options=options)"
   ]
  },
  {
   "cell_type": "code",
   "execution_count": 17,
   "metadata": {},
   "outputs": [
    {
     "data": {
      "text/html": [
       "<span class=\"tex2jax_ignore\"><div class=\"entities\" style=\"line-height: 2.5; direction: ltr\">I would like to apply for \n",
       "<mark class=\"entity\" style=\"background: lightpink; padding: 0.45em 0.6em; margin: 0 0.25em; line-height: 1; border-radius: 0.35em;\">\n",
       "    mortgage\n",
       "    <span style=\"font-size: 0.8em; font-weight: bold; line-height: 1; border-radius: 0.35em; vertical-align: middle; margin-left: 0.5rem\">MORTGAGE</span>\n",
       "</mark>\n",
       " loan. What is your latest interest rate?</div></span>"
      ],
      "text/plain": [
       "<IPython.core.display.HTML object>"
      ]
     },
     "metadata": {},
     "output_type": "display_data"
    }
   ],
   "source": [
    "text = \"I would like to apply for mortgage loan. What is your latest interest rate?\"\n",
    "doc = nlp_rak(text)\n",
    "displacy.render(doc, style='ent',options=options)"
   ]
  },
  {
   "cell_type": "code",
   "execution_count": null,
   "metadata": {},
   "outputs": [],
   "source": []
  }
 ],
 "metadata": {
  "kernelspec": {
   "display_name": "Python 3 (ipykernel)",
   "language": "python",
   "name": "python3"
  },
  "language_info": {
   "codemirror_mode": {
    "name": "ipython",
    "version": 3
   },
   "file_extension": ".py",
   "mimetype": "text/x-python",
   "name": "python",
   "nbconvert_exporter": "python",
   "pygments_lexer": "ipython3",
   "version": "3.10.8"
  }
 },
 "nbformat": 4,
 "nbformat_minor": 2
}
